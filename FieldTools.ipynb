{
 "cells": [
  {
   "cell_type": "markdown",
   "metadata": {},
   "source": [
    "# FieldTools Tutorial\n",
    "\n",
    "[![Open In Colab](https://colab.research.google.com/assets/colab-badge.svg)](https://colab.research.google.com/github/bunzela/FieldTools/blob/main/FieldTools.ipynb)\n",
    "\n",
    "---\n",
    "FieldTools.py can be used to calculate electric fields from MD trajectories. The script requires standard MD **trajectory** and **parameter** files as input.\n",
    "Furthermore a **target** file needs to be provided that specifies the positions at which the field will be calculated.\n",
    "\n",
    "---     \n",
    "<font color=\"red\">**Attention: Trajectories must be immaged!**</font>  \n",
    "<font color=\"red\">FieldTools calculates the fields from the exact location of all atoms in the simulation without considiring periodicity.</font>\n",
    "\n",
    "---\n",
    "**Requirements**\n",
    "- Python3.X\n",
    "- MDanalysis (install using pip install mdanalysis)\n",
    "\n",
    "---\n",
    "**Usage**\n",
    "\n",
    "    python utils/FieldTools.py -nc <trajectory file>              \n",
    "                               -parm <parameter file>             \n",
    "                               -target <target file>              \n",
    "                               [-solvent <non-protein residues>] \n",
    "                               [-exclude_atoms <exclusion list>]  \n",
    "                               [-TIP4P <True|False>]               \n",
    "                               [-verbose <True|False>]             \n",
    "                               -out <output file> \n",
    "\n",
    "- Trajectory (-nc) and parameter (-parm) input file:\n",
    "  - The script uses MDanalysis to load the trajectory and thus accepts any file types accepted by pytraj. \n",
    "- A -target file that specifies the positions at which the field is to be calculated:\n",
    "  - FieldTools can calculate the field either along a bond or at a specific atom.\n",
    "  - For field calculations along bonds, two target atoms need to be defined.\n",
    "  - For field calculations at a specific point, only one target atom needs to be defined.\n",
    "  - Multiple targets can be specified and calculated in parallel.\n",
    "- A -solvent flag that specifies all solvent (and ion!) molecules:\n",
    "  - For the protein, FieldTools will give the field of each individual protein residue.\n",
    "  - Solvent atoms will not be included in the protein field, but summed up separately in the solvent field.\n",
    "  - The script will furthermore provide separate fields for each type of solvent molecule.\n",
    "- Optional -exclude_atoms flag that defines which atoms will not be included in the charge calculation:\n",
    "  - Some Atoms need to be excluded for the field calculations.\n",
    "  - By default, these are all atoms of the residue for which the field is calculated on.\n",
    "  - Alternatively, these atoms can be defined using -exclude_atoms\n",
    "- Optional QM charges can be loaded for the calculation of the field:\n",
    "  - QM charges are calculated with a separate script (QMChargesTools).\n",
    "  - If QM charges are to be loaded, the output from QMChargesTools should be used (-qm_mask, -qm_charges, and -qm_dict).\n",
    "  - This is still experimental and will be added in the future!\n",
    "  - Contact [adrian.bunzel@bsse.ethz.ch](mailto:adrian.bunzel@bsse.ethz.ch) for early access.\n",
    "---\n",
    "\n",
    "**The final fields will be saved into a .pkl file with the following data structure:**\n",
    "\n",
    "    Fields[field_target][field_component][field_1, field_2, ... field_n]\n",
    "    \n",
    "        field_target                    : describe the location at which the field is calculated.\n",
    "                                          either along a bond or at a specific atom\n",
    "                                          \n",
    "        field_component                 : describe the part of the system that causes the field. Components are:\n",
    "                Total                   : Total field\n",
    "                Protein                 : Protein field\n",
    "                Solvent                 : Solvent field\n",
    "                RSN_1, RSN_2, ... RSN_i : Field of each protein residue\n",
    "                WAT, Na+, Cl-, etc.     : Field from each type of solvent molecule in the system\n",
    "                \n",
    "        field_1, field_2, ... field_n   : List of the fields in each frame of the simulation\n"
   ]
  },
  {
   "cell_type": "code",
   "execution_count": null,
   "metadata": {
    "collapsed": true,
    "scrolled": true
   },
   "outputs": [],
   "source": [
    "#@title Setup FieldTools\n",
    "print(\"Installing mdanalysis, this may take several minutes.\")\n",
    "!pip install mdanalysis &>1\n",
    "import os\n",
    "from google.colab import files\n",
    "current_directory = os.getcwd()\n",
    "if \"FieldTools\" in current_directory.split(os.sep):\n",
    "  %cd .. \n",
    "  !rm -r FieldTools\n",
    "print(\"Cloning FieldTools.\")\n",
    "!git clone https://github.com/bunzela/FieldTools &>1\n",
    "%cd FieldTools  "
   ]
  },
  {
   "cell_type": "code",
   "execution_count": null,
   "metadata": {},
   "outputs": [],
   "source": [
    "#@title Prepare input files\n",
    "field_target = \":40@C7 :40@O71 - :40@O71\" #@param {type:\"string\"}\n",
    "#@markdown - Defines the position at which the field is to be calculated. \n",
    "#@markdown - Either at a point or along a bond. Several targets can be defined by adding additional lines.\n",
    "#@markdown - Several targets can be defined by adding additional lines.\n",
    "#@markdown - Only in Google Colab: Seperate lines wiht: - .\n",
    "field_target = field_target.replace(\"-\", \"\\n\")\n",
    "field_target = field_target.replace(\"\\n \", \"\\n\")\n",
    "with open('data/field_target.dat', 'w') as file: file.write(field_target)\n",
    "\n",
    "exclude_mask = \":40@HB2 :40@HB1 :40@CB :40@OG :40@C7 :40@O71 :40@C25 :40@H6 :40@CA :40@HA :264@O :264@H1 :264@H2 - :40@HB2 :40@HB1 :40@CB :40@OG :40@C7 :40@O71 :40@C25 :40@H6 :40@CA :40@HA :264@O :264@H1 :264@H2\" #@param {type:\"string\"}\n",
    "#@markdown - Exlude atoms defines which atoms are not included during field calculations\n",
    "#@markdown - Needs to be repeated for every target, here twice due to targets :40@C7 :40@O71 and :40@O71\n",
    "#@markdown - Only in Google Colab: Seperate lines wiht: \\n .\n",
    "exclude_mask = exclude_mask.replace(\"-\", \"\\n\")\n",
    "exclude_mask = exclude_mask.replace(\"\\n \", \"\\n\")\n",
    "with open('data/exclude_mask.dat', 'w') as file: file.write(exclude_mask)\n",
    "\n",
    "nc = \"data/KPC.nc\" #@param {type:\"string\"}\n",
    "#@markdown - Input trajectory, leave blank to upload\n",
    "if nc is None or nc == \"\":\n",
    "    print(\"Upload trajectory file\")\n",
    "    upload_dict = files.upload()\n",
    "    nc = upload_dict[list(upload_dict.keys())[0]]\n",
    "    with open(\"data/tmp.nc\",\"wb\") as out: out.write(nc)\n",
    "    nc = \"data/tmp.nc\"\n",
    "    print()\n",
    "\n",
    "parm = \"data/KPC.parm7\" #@param {type:\"string\"}\n",
    "#@markdown - Input topology, leave blank to upload\n",
    "if parm is None or parm == \"\":\n",
    "    print(\"Upload parameter file\")\n",
    "    upload_dict = files.upload()\n",
    "    parm = upload_dict[list(upload_dict.keys())[0]]\n",
    "    with open(\"data/tmp.parm7\",\"wb\") as out: out.write(parm)\n",
    "    parm = \"data/tmp.parm7\"\n",
    "    print()\n",
    "\n",
    "solvent = \"WAT,Na+\" #@param {type:\"string\"}\n",
    "#@markdown - Comma-seperated list of all non-protein molecules (solvent, ions, ligans, etc.) in the system\n",
    "\n",
    "TIP4P = True #@param {type:\"boolean\"}\n",
    "#@markdown - Check this box if the TIP4P water model is used\n",
    "#@markdown - This likely works for any 4-point water, but has only been tested with TIP4P\n",
    "\n",
    "out = \"data/field.pkl\" #@param {type:\"string\"}\n",
    "#@markdown - Output dictionary containing of the calculated fields\n",
    "\n",
    "print(\"data/field_target.dat\")\n",
    "with open('data/field_target.dat', 'r') as file: print(file.read())\n",
    "print()\n",
    "print(\"data/exclude_mask.dat\")\n",
    "with open('data/exclude_mask.dat', 'r') as file: print(file.read())\n",
    "print()\n",
    "print(\"nc      : \", nc)\n",
    "print(\"parm    : \", parm)\n",
    "print(\"solvent : \", solvent)\n",
    "print(\"TIP4P   : \", TIP4P)\n",
    "print(\"out     : \", out)"
   ]
  },
  {
   "cell_type": "code",
   "execution_count": null,
   "metadata": {},
   "outputs": [],
   "source": [
    "#@title Run the field calculations\n",
    "!python utils/FieldTools.py -nc \"{nc}\" -parm \"{parm}\" -TIP4P \"{TIP4P}\" -solvent \"{solvent}\" -out \"{out}\" \\\n",
    "                            -exclude_atoms data/exclude_mask.dat -target data/field_target.dat"
   ]
  },
  {
   "cell_type": "code",
   "execution_count": null,
   "metadata": {},
   "outputs": [],
   "source": [
    "#@title Load the calculated fields\n",
    "import pickle\n",
    "FIELDS = pickle.load(open(\"data/KPC_field.pkl\",\"rb\"))\n",
    "\n",
    "#-- print out the field keys to give an idea about the data structure\n",
    "print(FIELDS.keys())\n",
    "print(FIELDS[':40@C7_:40@O71'].keys())\n",
    "print(FIELDS[':40@C7_:40@O71']['Total'])"
   ]
  },
  {
   "cell_type": "code",
   "execution_count": null,
   "metadata": {
    "scrolled": false
   },
   "outputs": [
    {
     "data": {
      "image/png": "[encoded data removed]",
      "text/plain": [
       "<Figure size 1080x144 with 1 Axes>"
      ]
     },
     "metadata": {
      "needs_background": "light"
     },
     "output_type": "display_data"
    },
    {
     "data": {
      "image/png": "[encoded data removed]",
      "text/plain": [
       "<Figure size 1080x144 with 1 Axes>"
      ]
     },
     "metadata": {
      "needs_background": "light"
     },
     "output_type": "display_data"
    }
   ],
   "source": [
    "#@title Load the calculated fields\n",
    "import matplotlib.pyplot as plt \n",
    "import numpy as np\n",
    "plt.rcParams[\"figure.figsize\"]=[15,2]\n",
    "for Target in FIELDS:\n",
    "    \n",
    "    # Only protein residues, no Total, Solvent, etc.\n",
    "    x_keys = [i for i in list(FIELDS[Target]) if len(i.split(\"_\"))==2] \n",
    "    \n",
    "    #get x and y data\n",
    "    y = np.array([np.mean(FIELDS[Target][x_key]) for x_key in x_keys])\n",
    "    x = np.array([int(x_key.split(\"_\")[-1]) for x_key in x_keys])\n",
    "    \n",
    "    #plot data\n",
    "    plt.bar(x, y)\n",
    "    plt.axhline(0,c= \"k\")\n",
    "    plt.title(f\"Target: {Target}\")\n",
    "    plt.xlabel(\"Residue Number\")\n",
    "    plt.ylabel(\"Field (MV/cm)\")\n",
    "    plt.xlim(0, len(x) + 1)\n",
    "    plt.ylim(-max(abs(y))*1.1, max(abs(y))*1.1)\n",
    "    plt.show()"
   ]
  },
  {
   "cell_type": "code",
   "execution_count": null,
   "metadata": {},
   "outputs": [],
   "source": []
  }
 ],
 "metadata": {
  "kernelspec": {
   "display_name": "Python 3",
   "language": "python",
   "name": "python3"
  },
  "language_info": {
   "codemirror_mode": {
    "name": "ipython",
    "version": 3
   },
   "file_extension": ".py",
   "mimetype": "text/x-python",
   "name": "python",
   "nbconvert_exporter": "python",
   "pygments_lexer": "ipython3",
   "version": "3.9.12"
  }
 },
 "nbformat": 4,
 "nbformat_minor": 2
}
