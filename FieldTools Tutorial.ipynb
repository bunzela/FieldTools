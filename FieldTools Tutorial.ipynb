{
 "cells": [
  {
   "cell_type": "markdown",
   "metadata": {},
   "source": [
    "# FieldTools Tutorial\n",
    "\n",
    "---\n",
    "#### In this tutorial, you will calculate the active site fields in the b-lactamase KPC from a test trajectory.\n",
    "---\n",
    "**To that end, you will:**\n",
    "1. Calculate Fields with FieldTools for an example trajectory.\n",
    "2. Average & Plot Fields.\n",
    "---\n",
    "**Fields are calculated from MD trajectories and saved into a pickle file with the following data structure:**\n",
    "\n",
    "    Fields[field_target][field_component][field_1, field_2, ... field_n]\n",
    "    \n",
    "        field_target                    : describe the location at which the field is calculated.\n",
    "                                          either along a bond or at a specific atom\n",
    "                                          \n",
    "        field_component                 : describe the part of the system that causes the field. Components are:\n",
    "                Total                   : Total field\n",
    "                Protein                 : Protein field\n",
    "                Solvent                 : Solvent field\n",
    "                RSN_1, RSN_2, ... RSN_i : Field of each protein residue\n",
    "                WAT, Na+, Cl-, etc.     : Field from each type of solvent molecule in the system\n",
    "                \n",
    "        field_1, field_2, ... field_n   : List of the fields in each frame of the simulation\n",
    "---     \n",
    "<font color=\"red\">**Attention: Trajectories must be immaged!**</font>\n",
    "    \n",
    "- FieldTools calculates the fields from the exact location of all atoms in the simulation without considiring periodicity.\n",
    "\n",
    "---\n",
    "\n",
    "# 1. Calculate Fields with FieldTools\n",
    "\n",
    "**FieldTools requires the following input:**\n",
    "\n",
    "- **Trajectory (-nc) and parameter (-parm) input file**:\n",
    "  - The script uses pytraj to load the trajectory and thus accepts any file types accepted by pytraj.\n",
    "  \n",
    "- **A -target file that specifies the positions at which the field is to be calculated**:\n",
    "  - FieldTools can calculate the field either along a bond or at a specific atom.\n",
    "  - For field calculations along bonds, two target atoms need to be defined.\n",
    "  - For field calculations at a specific point, only one target atom needs to be defined.\n",
    "  - Multiple targets can be specified and calculated in parallel.\n",
    "\n",
    "- **A -solvent flag that specifies all solvent (and ion!) molecules**:\n",
    "  - For the protein, FieldTools will give the field of each individual protein residue.\n",
    "  - Solvent atoms will not be included in the protein field, but summed up separately in the solvent field.\n",
    "  - The script will furthermore provide separate fields for each type of solvent molecule.\n",
    "\n",
    "- **Optional -exclude_atoms flag that defines which atoms will not be included in the charge calculation**:\n",
    "  - Some Atoms need to be excluded for the field calculations.\n",
    "  - By default, these are all atoms of the residue for which the field is calculated on.\n",
    "  - Alternatively, these atoms can be defined using -exclude_atoms.\n",
    "\n",
    "- **Optional QM charges can be loaded for the calculation of the field**:\n",
    "  - QM charges are calculated with a separate script (QMChargesTools).\n",
    "  - If QM charges are to be loaded, the output from QMChargesTools should be used (-qm_mask, -qm_charges, and -qm_dict).\n",
    "  - This is still experimental and will be added in the future!\n",
    "  - Contact [adrian.bunzel@bsse.ethz.ch](mailto:adrian.bunzel@bsse.ethz.ch) for early access.\n",
    "---\n",
    "**The final fields will be saved into a .pkl file specified with -out.**"
   ]
  },
  {
   "cell_type": "code",
   "execution_count": null,
   "metadata": {
    "scrolled": true
   },
   "outputs": [],
   "source": [
    "#-- Uncomment to read FieldTools help file\n",
    "\n",
    "#!python utils/FieldTools.py -help "
   ]
  },
  {
   "cell_type": "code",
   "execution_count": null,
   "metadata": {},
   "outputs": [],
   "source": [
    "#-- Prepare the input files\n",
    "\n",
    "# Defines the position at which the field is to be calculated. Either at a point or along a bond\n",
    "field_target = \"\"\":40@C7 :40@O71\n",
    ":40@O71\"\"\"\n",
    "!echo \"$field_target\" > data/field_target.dat\n",
    "\n",
    "# Exlude atoms (needs to be repeated for every target, here :40@C7 :40@O71 and :40@O71!)\n",
    "exclude_mask = \"\"\":40@HB2 :40@HB1 :40@CB :40@OG :40@C7 :40@O71 :40@C25 :40@H6 :40@CA :40@HA :264@O :264@H1 :264@H2\n",
    ":40@HB2 :40@HB1 :40@CB :40@OG :40@C7 :40@O71 :40@C25 :40@H6 :40@CA :40@HA :264@O :264@H1 :264@H2\"\"\"\n",
    "!echo \"$exclude_mask\" > data/exclude_mask.dat"
   ]
  },
  {
   "cell_type": "code",
   "execution_count": null,
   "metadata": {},
   "outputs": [],
   "source": [
    "#-- Run the field calculations\n",
    "!python utils/FieldTools.py -nc data/KPC.nc \\\n",
    "                            -parm data/KPC.parm7 \\\n",
    "                            -out data/KPC_field.pkl \\\n",
    "                            -exclude_atoms data/exclude_mask.dat \\\n",
    "                            -target data/field_target.dat \\\n",
    "                            -solvent WAT,Na+ \\\n",
    "                            -TIP4P True"
   ]
  },
  {
   "cell_type": "markdown",
   "metadata": {},
   "source": [
    "# 2. Average & Plot Fields"
   ]
  },
  {
   "cell_type": "code",
   "execution_count": null,
   "metadata": {},
   "outputs": [],
   "source": [
    "#-- Load the calculated fields\n",
    "import pickle\n",
    "FIELDS = pickle.load(open(\"data/KPC_field.pkl\",\"rb\"))\n",
    "\n",
    "#-- print out the field keys to give an idea about the data structure\n",
    "print(FIELDS.keys())\n",
    "print(FIELDS[':40@C7_:40@O71'].keys())\n",
    "print(FIELDS[':40@C7_:40@O71']['Total'])"
   ]
  },
  {
   "cell_type": "code",
   "execution_count": null,
   "metadata": {
    "scrolled": false
   },
   "outputs": [],
   "source": [
    "#-- plot the fields as bar plot\n",
    "import matplotlib.pyplot as plt \n",
    "import numpy as np\n",
    "plt.rcParams[\"figure.figsize\"]=[15,2]\n",
    "for Target in FIELDS:\n",
    "    \n",
    "    # Only protein residues, no Total, Solvent, etc.\n",
    "    x_keys = [i for i in list(FIELDS[Target]) if len(i.split(\"_\"))==2] \n",
    "    \n",
    "    #get x and y data\n",
    "    y = np.array([np.mean(FIELDS[Target][x_key]) for x_key in x_keys])\n",
    "    x = np.array([int(x_key.split(\"_\")[-1]) for x_key in x_keys])\n",
    "    \n",
    "    #plot data\n",
    "    plt.bar(x, y)\n",
    "    plt.axhline(0,c= \"k\")\n",
    "    plt.title(f\"Target: {Target}\")\n",
    "    plt.xlabel(\"Residue Number\")\n",
    "    plt.ylabel(\"Field (MV/cm)\")\n",
    "    plt.xlim(0, len(x) + 1)\n",
    "    plt.ylim(-max(abs(y))*1.1, max(abs(y))*1.1)\n",
    "    plt.show()"
   ]
  },
  {
   "cell_type": "code",
   "execution_count": null,
   "metadata": {},
   "outputs": [],
   "source": []
  }
 ],
 "metadata": {
  "kernelspec": {
   "display_name": "Python 3",
   "language": "python",
   "name": "python3"
  },
  "language_info": {
   "codemirror_mode": {
    "name": "ipython",
    "version": 3
   },
   "file_extension": ".py",
   "mimetype": "text/x-python",
   "name": "python",
   "nbconvert_exporter": "python",
   "pygments_lexer": "ipython3",
   "version": "3.7.7"
  }
 },
 "nbformat": 4,
 "nbformat_minor": 2
}
